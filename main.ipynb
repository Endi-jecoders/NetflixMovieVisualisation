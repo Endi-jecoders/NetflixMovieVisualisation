{
 "cells": [
  {
   "cell_type": "code",
   "execution_count": null,
   "metadata": {},
   "outputs": [],
   "source": [
    "%pip install squarify\n",
    "import pandas as pd\n",
    "import matplotlib.pyplot as plt\n",
    "import seaborn as sns\n",
    "from mpl_toolkits.mplot3d import Axes3D\n",
    "import numpy as np\n",
    "import matplotlib\n",
    "import squarify \n",
    "from mpl_toolkits.mplot3d import Axes3D\n"
   ]
  },
  {
   "cell_type": "code",
   "execution_count": null,
   "metadata": {},
   "outputs": [
    {
     "name": "stdout",
     "output_type": "stream",
     "text": [
      "                      Title Name    Language Released Rating    IMDb\n",
      "0                          \"Sr.\"     English     2022      R     NaN\n",
      "1                         #Alive      Korean     2020  TV-MA  6.2/10\n",
      "2              #FriendButMarried  Indonesian     2018   TV-G  7.1/10\n",
      "3            #FriendButMarried 2  Indonesian     2020   TV-G     NaN\n",
      "4  #OOTD: Outfit of the Designer  Indonesian     2024  TV-14     NaN\n",
      "Columns: ['Title Name', 'Language', 'Released', 'Rating', 'IMDb']\n"
     ]
    }
   ],
   "source": [
    "matplotlib.use('TkAgg')\n",
    "\n",
    "df = pd.read_csv('NetflixMovies_dataset.csv')\n",
    "\n",
    "print(df.head())\n",
    "\n",
    "print(\"Columns:\", df.columns.tolist())"
   ]
  },
  {
   "cell_type": "code",
   "execution_count": null,
   "metadata": {},
   "outputs": [
    {
     "name": "stderr",
     "output_type": "stream",
     "text": [
      "C:\\Users\\Lenovo\\AppData\\Local\\Temp\\ipykernel_39140\\4031813665.py:16: FutureWarning: \n",
      "\n",
      "Passing `palette` without assigning `hue` is deprecated and will be removed in v0.14.0. Assign the `y` variable to `hue` and set `legend=False` for the same effect.\n",
      "\n",
      "  sns.barplot(x='IMDb', y='Title Name', data=top10_imdb, palette='viridis')\n"
     ]
    }
   ],
   "source": [
    "df['IMDb'] = df['IMDb'].astype(str).str.extract(r'([\\d,\\.]+)')[0].str.replace(',', '.')\n",
    "df['IMDb'] = pd.to_numeric(df['IMDb'], errors='coerce')\n",
    "\n",
    "df_valid = df.dropna(subset=['IMDb'])\n",
    "\n",
    "top10_imdb = df_valid.sort_values(by='IMDb', ascending=False).head(10)\n",
    "\n",
    "plt.figure(figsize=(12,6))\n",
    "sns.barplot(x='IMDb', y='Title Name', data=top10_imdb, palette='viridis')\n",
    "plt.title('Top 10 Movies/TV Shows by IMDb Rating')\n",
    "plt.xlabel('IMDb Rating')\n",
    "plt.ylabel('Title')\n",
    "plt.tight_layout()\n",
    "plt.show()\n"
   ]
  },
  {
   "cell_type": "code",
   "execution_count": null,
   "metadata": {},
   "outputs": [
    {
     "name": "stderr",
     "output_type": "stream",
     "text": [
      "C:\\Users\\Lenovo\\AppData\\Local\\Temp\\ipykernel_39140\\141606421.py:4: FutureWarning: \n",
      "\n",
      "Passing `palette` without assigning `hue` is deprecated and will be removed in v0.14.0. Assign the `x` variable to `hue` and set `legend=False` for the same effect.\n",
      "\n",
      "  sns.barplot(x=language_counts.index, y=language_counts.values, palette='viridis')\n"
     ]
    }
   ],
   "source": [
    "# Distribution of Movies/TV Shows by Language\n",
    "language_counts = df['Language'].value_counts().head(10)  \n",
    "plt.figure(figsize=(12,6))\n",
    "sns.barplot(x=language_counts.index, y=language_counts.values, palette='viridis')\n",
    "plt.title('Top 10 Languages of Movies/TV Shows on Netflix')\n",
    "plt.xlabel('Language')\n",
    "plt.ylabel('Number of Movies/TV Shows')\n",
    "plt.xticks(rotation=45)\n",
    "plt.tight_layout()\n",
    "plt.show()\n"
   ]
  },
  {
   "cell_type": "code",
   "execution_count": null,
   "metadata": {},
   "outputs": [],
   "source": [
    "#/////////////////////POSTTTTTTT////////////////////////////////////////////\n",
    "# Distribution of Ratings\n",
    "plt.figure(figsize=(12,6))\n",
    "sns.histplot(df['Rating'], bins=10, kde=True, color='purple')\n",
    "plt.title('Distribution of Ratings for Movies/TV Shows')\n",
    "plt.xlabel('Rating')\n",
    "plt.ylabel('Frequency')\n",
    "plt.tight_layout()\n",
    "plt.show()\n"
   ]
  },
  {
   "cell_type": "code",
   "execution_count": null,
   "metadata": {},
   "outputs": [],
   "source": [
    "#/////////////////////POSTTTTTTT////////////////////////////////////////////\n",
    "# Trend of Movies/TV Shows Released Over the Years\n",
    "df['Released'] = pd.to_datetime(df['Released'], errors='coerce')\n",
    "df['Year'] = df['Released'].dt.year\n",
    "yearly_releases = df.groupby('Year')['Title Name'].count().reset_index()\n",
    "plt.figure(figsize=(12,6))\n",
    "plt.plot(yearly_releases['Year'], yearly_releases['Title Name'], marker='o', color='blue')\n",
    "plt.title('Trend of Movies/TV Shows Released Over the Years')\n",
    "plt.xlabel('Year')\n",
    "plt.ylabel('Number of Releases')\n",
    "plt.xticks(yearly_releases['Year'], rotation=45)\n",
    "plt.tight_layout()\n",
    "plt.show()\n"
   ]
  },
  {
   "cell_type": "code",
   "execution_count": 50,
   "metadata": {},
   "outputs": [
    {
     "name": "stderr",
     "output_type": "stream",
     "text": [
      "C:\\Users\\Lenovo\\AppData\\Local\\Temp\\ipykernel_39140\\1985394244.py:3: FutureWarning: \n",
      "\n",
      "Passing `palette` without assigning `hue` is deprecated and will be removed in v0.14.0. Assign the `x` variable to `hue` and set `legend=False` for the same effect.\n",
      "\n",
      "  sns.barplot(x=rating_counts.index, y=rating_counts.values, palette='viridis')\n"
     ]
    }
   ],
   "source": [
    "rating_counts = df['Rating'].value_counts()\n",
    "plt.figure(figsize=(12,6))\n",
    "sns.barplot(x=rating_counts.index, y=rating_counts.values, palette='viridis')\n",
    "plt.title('Distribution of Movies/TV Shows by Rating')\n",
    "plt.xlabel('Rating')\n",
    "plt.ylabel('Number of Titles')\n",
    "plt.xticks(rotation=45)\n",
    "plt.tight_layout()\n",
    "plt.show()\n"
   ]
  },
  {
   "cell_type": "code",
   "execution_count": null,
   "metadata": {},
   "outputs": [],
   "source": [
    "language_counts = df['Language'].value_counts()\n",
    "\n",
    "plt.figure(figsize=(10, 8))\n",
    "plt.pie(language_counts, \n",
    "        labels=language_counts.index, \n",
    "        autopct='%1.1f%%', \n",
    "        startangle=140, \n",
    "        colors=sns.color_palette(\"Set2\", len(language_counts)))\n",
    "plt.title('Distribution of Titles by Language')\n",
    "plt.axis('equal')  \n",
    "plt.show()\n"
   ]
  },
  {
   "cell_type": "code",
   "execution_count": null,
   "metadata": {},
   "outputs": [],
   "source": [
    "#/////////////////////POSTTTTTTT////////////////////////////////////////////\n",
    "\n",
    "df['Released'] = pd.to_datetime(df['Released'], errors='coerce')\n",
    "df['Year'] = df['Released'].dt.year\n",
    "\n",
    "titles_per_year = df.groupby('Year')['Title Name'].count()\n",
    "avg_imdb_per_year = df.groupby('Year')['IMDb'].mean()\n",
    "\n",
    "fig, ax1 = plt.subplots(figsize=(12, 6))\n",
    "\n",
    "ax1.bar(titles_per_year.index, titles_per_year.values, color='skyblue', label='Number of Titles')\n",
    "ax1.set_xlabel('Year')\n",
    "ax1.set_ylabel('Number of Titles', color='skyblue')\n",
    "ax1.tick_params(axis='y', labelcolor='skyblue')\n",
    "\n",
    "ax2 = ax1.twinx()\n",
    "ax2.plot(avg_imdb_per_year.index, avg_imdb_per_year.values, color='red',\n",
    "         marker='o', linewidth=2, label='Average IMDb Rating')\n",
    "ax2.set_ylabel('Average IMDb Rating', color='red')\n",
    "ax2.tick_params(axis='y', labelcolor='red')\n",
    "\n",
    "plt.title('Titles Released & Average IMDb Rating by Year')\n",
    "fig.tight_layout()\n",
    "plt.show()\n"
   ]
  },
  {
   "cell_type": "code",
   "execution_count": null,
   "metadata": {},
   "outputs": [],
   "source": [
    "df['IMDb'] = pd.to_numeric(df['IMDb'].astype(str).str.extract(r'(\\d+\\.?\\d*)')[0], errors='coerce')\n",
    "df['Released'] = pd.to_datetime(df['Released'], errors='coerce')\n",
    "df['Year'] = df['Released'].dt.year\n",
    "\n",
    "\n",
    "top_languages = df['Language'].value_counts().head(3).index.tolist()\n",
    "\n",
    "plt.figure(figsize=(12, 6))\n",
    "for lang in top_languages:\n",
    "    lang_data = df[df['Language'] == lang]\n",
    "    lang_yearly = lang_data.groupby('Year')['IMDb'].mean().dropna()\n",
    "    plt.plot(lang_yearly.index, lang_yearly.values, marker='o', linewidth=2, label=lang)\n",
    "\n",
    "plt.title('IMDb Rating Trend for Top 3 Languages')\n",
    "plt.xlabel('Year')\n",
    "plt.ylabel('Average IMDb Rating')\n",
    "plt.legend(title='Language')\n",
    "plt.tight_layout()\n",
    "plt.show()\n"
   ]
  },
  {
   "cell_type": "code",
   "execution_count": null,
   "metadata": {},
   "outputs": [
    {
     "name": "stdout",
     "output_type": "stream",
     "text": [
      "Defaulting to user installation because normal site-packages is not writeable\n",
      "Requirement already satisfied: squarify in c:\\users\\lenovo\\appdata\\roaming\\python\\python312\\site-packages (0.4.4)\n",
      "Note: you may need to restart the kernel to use updated packages.\n"
     ]
    }
   ],
   "source": [
    "language_counts = df['Language'].value_counts()\n",
    "\n",
    "# Create the treemap\n",
    "plt.figure(figsize=(12,8))\n",
    "squarify.plot(sizes=language_counts.values, \n",
    "              label=language_counts.index, \n",
    "              color=sns.color_palette(\"Set2\", len(language_counts)),\n",
    "              alpha=0.8)\n",
    "plt.title(\"Treemap of Titles by Language\", fontsize=16)\n",
    "plt.axis('off')  # Hide the axes for a cleaner look\n",
    "plt.show()\n"
   ]
  },
  {
   "cell_type": "code",
   "execution_count": null,
   "metadata": {},
   "outputs": [],
   "source": [
    "df['IMDb'] = pd.to_numeric(df['IMDb'].astype(str).str.extract(r'(\\d+\\.?\\d*)')[0], errors='coerce')\n",
    "\n",
    "lang_summary = df.groupby('Language').agg({'IMDb': 'mean', 'Title Name': 'count'}).reset_index()\n",
    "lang_summary.rename(columns={'Title Name': 'Count'}, inplace=True)\n",
    "\n",
    "# Create bubble chart\n",
    "plt.figure(figsize=(12,8))\n",
    "scatter = sns.scatterplot(data=lang_summary, \n",
    "                          x='IMDb', \n",
    "                          y='Count', \n",
    "                          size='Count', \n",
    "                          sizes=(100, 2000), \n",
    "                          alpha=0.7, \n",
    "                          hue='Language', \n",
    "                          legend=False)\n",
    "\n",
    "for index, row in lang_summary.iterrows():\n",
    "    plt.text(row['IMDb'] + 0.02, row['Count'], row['Language'], \n",
    "             horizontalalignment='left', size='medium', color='black', weight='semibold')\n",
    "\n",
    "plt.title(\"Languages: Average IMDb Rating vs. Count of Titles\", fontsize=16)\n",
    "plt.xlabel(\"Average IMDb Rating\")\n",
    "plt.ylabel(\"Count of Titles\")\n",
    "plt.tight_layout()\n",
    "plt.show()\n"
   ]
  },
  {
   "cell_type": "code",
   "execution_count": null,
   "metadata": {},
   "outputs": [
    {
     "name": "stderr",
     "output_type": "stream",
     "text": [
      "C:\\Users\\Lenovo\\AppData\\Local\\Temp\\ipykernel_39140\\1399792065.py:45: UserWarning: Tight layout not applied. The left and right margins cannot be made large enough to accommodate all Axes decorations.\n",
      "  plt.tight_layout()\n"
     ]
    }
   ],
   "source": [
    "#/////////////////////POSTTTTTTT////////////////////////////////////////////\n",
    "\n",
    "df['IMDb'] = pd.to_numeric(df['IMDb'].astype(str).str.extract(r'(\\d+\\.?\\d*)')[0], errors='coerce')\n",
    "\n",
    "df['Released'] = pd.to_datetime(df['Released'], errors='coerce')\n",
    "df['Year'] = df['Released'].dt.year\n",
    "\n",
    "top_languages = df['Language'].value_counts().head(3).index.tolist()\n",
    "\n",
    "lang_to_z = {lang: i for i, lang in enumerate(top_languages)}\n",
    "\n",
    "fig = plt.figure(figsize=(12,8))\n",
    "ax = fig.add_subplot(111, projection='3d')\n",
    "\n",
    "for lang in top_languages:\n",
    "    lang_data = df[df['Language'] == lang]\n",
    "    yearly_avg = lang_data.groupby('Year')['IMDb'].mean().dropna()\n",
    "    x = yearly_avg.index  \n",
    "    y = yearly_avg.values \n",
    "    z = [lang_to_z[lang]] * len(yearly_avg) \n",
    "    ax.plot(x, y, z, marker='o', linewidth=2, label=lang)\n",
    "\n",
    "ax.set_zticks(list(lang_to_z.values()))\n",
    "ax.set_zticklabels(list(lang_to_z.keys()))\n",
    "\n",
    "ax.set_xlabel('Viti')\n",
    "ax.set_ylabel('Mesatarja e IMDb')\n",
    "ax.set_zlabel('Gjuha')\n",
    "plt.title(\"Trend 3D i Mesatares së IMDb sipas Gjuhës për Top 3 Gjuhët\")\n",
    "\n",
    "plt.legend(title='Gjuha')\n",
    "plt.tight_layout()\n",
    "plt.show()\n"
   ]
  }
 ],
 "metadata": {
  "kernelspec": {
   "display_name": "Python 3",
   "language": "python",
   "name": "python3"
  },
  "language_info": {
   "codemirror_mode": {
    "name": "ipython",
    "version": 3
   },
   "file_extension": ".py",
   "mimetype": "text/x-python",
   "name": "python",
   "nbconvert_exporter": "python",
   "pygments_lexer": "ipython3",
   "version": "3.12.6"
  }
 },
 "nbformat": 4,
 "nbformat_minor": 2
}
